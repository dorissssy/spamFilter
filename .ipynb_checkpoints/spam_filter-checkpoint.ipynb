{
 "cells": [
  {
   "cell_type": "code",
   "execution_count": 1,
   "metadata": {},
   "outputs": [],
   "source": [
    "import pandas as pd\n",
    "import numpy as np\n",
    "from sklearn.model_selection import train_test_split"
   ]
  },
  {
   "cell_type": "markdown",
   "metadata": {},
   "source": [
    "# Load data and clean the data"
   ]
  },
  {
   "cell_type": "code",
   "execution_count": 2,
   "metadata": {},
   "outputs": [],
   "source": [
    "lingemails = pd.read_csv(\"lingspam-emails.csv.bz2\", sep=\"\\t\")"
   ]
  },
  {
   "cell_type": "code",
   "execution_count": 3,
   "metadata": {},
   "outputs": [
    {
     "data": {
      "text/html": [
       "<div>\n",
       "<style scoped>\n",
       "    .dataframe tbody tr th:only-of-type {\n",
       "        vertical-align: middle;\n",
       "    }\n",
       "\n",
       "    .dataframe tbody tr th {\n",
       "        vertical-align: top;\n",
       "    }\n",
       "\n",
       "    .dataframe thead th {\n",
       "        text-align: right;\n",
       "    }\n",
       "</style>\n",
       "<table border=\"1\" class=\"dataframe\">\n",
       "  <thead>\n",
       "    <tr style=\"text-align: right;\">\n",
       "      <th></th>\n",
       "      <th>spam</th>\n",
       "      <th>files</th>\n",
       "      <th>message</th>\n",
       "    </tr>\n",
       "  </thead>\n",
       "  <tbody>\n",
       "    <tr>\n",
       "      <th>2474</th>\n",
       "      <td>False</td>\n",
       "      <td>8-1064msg1.txt</td>\n",
       "      <td>Subject: re : 8 . 1044 , disc : grammar in sch...</td>\n",
       "    </tr>\n",
       "    <tr>\n",
       "      <th>700</th>\n",
       "      <td>False</td>\n",
       "      <td>5-1434msg1.txt</td>\n",
       "      <td>Subject: linguist / phonetic request for infor...</td>\n",
       "    </tr>\n",
       "    <tr>\n",
       "      <th>1056</th>\n",
       "      <td>False</td>\n",
       "      <td>6-189msg2.txt</td>\n",
       "      <td>Subject: 6 . 136 language and species  just a ...</td>\n",
       "    </tr>\n",
       "    <tr>\n",
       "      <th>1074</th>\n",
       "      <td>False</td>\n",
       "      <td>6-203msg1.txt</td>\n",
       "      <td>Subject: endangered languages  january and ear...</td>\n",
       "    </tr>\n",
       "    <tr>\n",
       "      <th>1063</th>\n",
       "      <td>False</td>\n",
       "      <td>6-197msg3.txt</td>\n",
       "      <td>Subject: summer opportunities  hey ! does anyo...</td>\n",
       "    </tr>\n",
       "  </tbody>\n",
       "</table>\n",
       "</div>"
      ],
      "text/plain": [
       "       spam           files                                            message\n",
       "2474  False  8-1064msg1.txt  Subject: re : 8 . 1044 , disc : grammar in sch...\n",
       "700   False  5-1434msg1.txt  Subject: linguist / phonetic request for infor...\n",
       "1056  False   6-189msg2.txt  Subject: 6 . 136 language and species  just a ...\n",
       "1074  False   6-203msg1.txt  Subject: endangered languages  january and ear...\n",
       "1063  False   6-197msg3.txt  Subject: summer opportunities  hey ! does anyo..."
      ]
     },
     "execution_count": 3,
     "metadata": {},
     "output_type": "execute_result"
    }
   ],
   "source": [
    "lingemails.sample(n = 5)"
   ]
  },
  {
   "cell_type": "code",
   "execution_count": 4,
   "metadata": {},
   "outputs": [
    {
     "data": {
      "text/plain": [
       "spam       0\n",
       "files      0\n",
       "message    0\n",
       "dtype: int64"
      ]
     },
     "execution_count": 4,
     "metadata": {},
     "output_type": "execute_result"
    }
   ],
   "source": [
    "lingemails.isna().sum()"
   ]
  },
  {
   "cell_type": "markdown",
   "metadata": {},
   "source": [
    "## Vectorize the data and get the DTM"
   ]
  },
  {
   "cell_type": "code",
   "execution_count": 5,
   "metadata": {},
   "outputs": [],
   "source": [
    "from sklearn.feature_extraction.text import CountVectorizer\n",
    "vectorizer = CountVectorizer(binary=True)\n",
    "X = vectorizer.fit_transform(lingemails.message)\n",
    "vocabulary = vectorizer.get_feature_names()"
   ]
  },
  {
   "cell_type": "code",
   "execution_count": 6,
   "metadata": {},
   "outputs": [
    {
     "data": {
      "text/plain": [
       "60925"
      ]
     },
     "execution_count": 6,
     "metadata": {},
     "output_type": "execute_result"
    }
   ],
   "source": [
    "len(vocabulary)"
   ]
  },
  {
   "cell_type": "code",
   "execution_count": 7,
   "metadata": {},
   "outputs": [
    {
     "data": {
      "text/plain": [
       "2893"
      ]
     },
     "execution_count": 7,
     "metadata": {},
     "output_type": "execute_result"
    }
   ],
   "source": [
    "lingemails.shape[0]"
   ]
  },
  {
   "cell_type": "code",
   "execution_count": 8,
   "metadata": {},
   "outputs": [
    {
     "data": {
      "text/plain": [
       "array([[0, 0, 0, ..., 0, 0, 0],\n",
       "       [0, 0, 0, ..., 0, 0, 0],\n",
       "       [0, 0, 0, ..., 0, 0, 0],\n",
       "       ...,\n",
       "       [1, 0, 0, ..., 0, 0, 0],\n",
       "       [0, 0, 0, ..., 0, 0, 0],\n",
       "       [0, 0, 0, ..., 0, 0, 0]])"
      ]
     },
     "execution_count": 8,
     "metadata": {},
     "output_type": "execute_result"
    }
   ],
   "source": [
    "X.toarray()"
   ]
  },
  {
   "cell_type": "code",
   "execution_count": 9,
   "metadata": {},
   "outputs": [
    {
     "data": {
      "text/plain": [
       "(2893, 60925)"
      ]
     },
     "execution_count": 9,
     "metadata": {},
     "output_type": "execute_result"
    }
   ],
   "source": [
    "X.shape"
   ]
  },
  {
   "cell_type": "code",
   "execution_count": 10,
   "metadata": {},
   "outputs": [],
   "source": [
    "X = X.toarray()"
   ]
  },
  {
   "cell_type": "code",
   "execution_count": 11,
   "metadata": {},
   "outputs": [],
   "source": [
    "X_spam = np.c_[X, lingemails.spam]"
   ]
  },
  {
   "cell_type": "markdown",
   "metadata": {},
   "source": [
    "## Split data into training/validation chunks"
   ]
  },
  {
   "cell_type": "code",
   "execution_count": 12,
   "metadata": {},
   "outputs": [
    {
     "name": "stdout",
     "output_type": "stream",
     "text": [
      "     index   spam           files  \\\n",
      "0     2000   True    spmsgb34.txt   \n",
      "1     2817  False   9-560msg1.txt   \n",
      "2     1386  False  8-1120msg1.txt   \n",
      "3     1161  False   6-245msg1.txt   \n",
      "4     2313   True     spmsgc1.txt   \n",
      "..     ...    ...             ...   \n",
      "573    293  False     9-5msg1.txt   \n",
      "574    388  False   9-745msg1.txt   \n",
      "575   1183  False   6-280msg1.txt   \n",
      "576   1515  False  9-1017msg1.txt   \n",
      "577    577   True    spmsgc97.txt   \n",
      "\n",
      "                                               message  \n",
      "0    Subject: family name history  discover your fa...  \n",
      "1    Subject: ecai-98 # 8 : accepted papers and reg...  \n",
      "2    Subject: computer - mediated conversation  = =...  \n",
      "3    Subject: language teaching lists  hi , an acqu...  \n",
      "4    Subject: total profit + 980 % in 1998  = = = =...  \n",
      "..                                                 ...  \n",
      "573  Subject: conference on research and advanced t...  \n",
      "574  Subject: languages of the world , institute of...  \n",
      "575  Subject: about e . h . tuttle ( sumary )  some...  \n",
      "576  Subject: hil phonology 4 ( hilp 4 )  call for ...  \n",
      "577  Subject: submit 600  this is not spam ; you ar...  \n",
      "\n",
      "[578 rows x 4 columns]\n"
     ]
    }
   ],
   "source": [
    "np.random.seed(5)\n",
    "testing, training = train_test_split(X_spam, train_size = 0.2)\n",
    "testing_for_smoothing, training_for_smoothing = train_test_split(X_spam, train_size = 0.2)\n",
    "testing_for_smoothing_examples, training_for_smoothing_examples = train_test_split(lingemails, train_size = 0.2)\n",
    "testing_for_smoothing_examples.reset_index(inplace = True)\n",
    "print(testing_for_smoothing_examples)"
   ]
  },
  {
   "cell_type": "code",
   "execution_count": 13,
   "metadata": {},
   "outputs": [
    {
     "data": {
      "text/plain": [
       "(2315, 60926)"
      ]
     },
     "execution_count": 13,
     "metadata": {},
     "output_type": "execute_result"
    }
   ],
   "source": [
    "len(training), len(training[0])"
   ]
  },
  {
   "cell_type": "code",
   "execution_count": 14,
   "metadata": {},
   "outputs": [
    {
     "data": {
      "text/plain": [
       "array([416860])"
      ]
     },
     "execution_count": 14,
     "metadata": {},
     "output_type": "execute_result"
    }
   ],
   "source": [
    "np.sum(np.where(training.T[60925]==1), axis=1)"
   ]
  },
  {
   "cell_type": "markdown",
   "metadata": {},
   "source": [
    "# Naïve Bayes"
   ]
  },
  {
   "cell_type": "markdown",
   "metadata": {},
   "source": [
    "## get the spam indicator, which is the last column(T accesses matrix by column)"
   ]
  },
  {
   "cell_type": "code",
   "execution_count": 15,
   "metadata": {},
   "outputs": [],
   "source": [
    "isSpam = training.T[60925]"
   ]
  },
  {
   "cell_type": "code",
   "execution_count": 16,
   "metadata": {},
   "outputs": [
    {
     "data": {
      "text/plain": [
       "array([[   0, 1931],\n",
       "       [   1,  384]])"
      ]
     },
     "execution_count": 16,
     "metadata": {},
     "output_type": "execute_result"
    }
   ],
   "source": [
    "spamCount = np.array(np.unique(isSpam, return_counts=True)).T\n",
    "spamCount"
   ]
  },
  {
   "cell_type": "code",
   "execution_count": 17,
   "metadata": {},
   "outputs": [
    {
     "data": {
      "text/plain": [
       "(384, 1931)"
      ]
     },
     "execution_count": 17,
     "metadata": {},
     "output_type": "execute_result"
    }
   ],
   "source": [
    "num_S = spamCount[1][1]\n",
    "num_NS = spamCount[0][1]\n",
    "num_S, num_NS"
   ]
  },
  {
   "cell_type": "markdown",
   "metadata": {},
   "source": [
    "## get the accuracy of the naive model"
   ]
  },
  {
   "cell_type": "code",
   "execution_count": 18,
   "metadata": {},
   "outputs": [
    {
     "data": {
      "text/plain": [
       "(0.16587473002159828, 0.8341252699784018)"
      ]
     },
     "execution_count": 18,
     "metadata": {},
     "output_type": "execute_result"
    }
   ],
   "source": [
    "PrcS = 384/2315\n",
    "PrcNS = 1931/2315\n",
    "PrcS, PrcNS"
   ]
  },
  {
   "cell_type": "markdown",
   "metadata": {},
   "source": [
    "The accuracy of the naive model is 83.4%"
   ]
  },
  {
   "cell_type": "markdown",
   "metadata": {},
   "source": [
    "## get the unconditional (log) probability that the email is spam/non-spam, log Pr(S), andlog Pr( ̄S)"
   ]
  },
  {
   "cell_type": "code",
   "execution_count": 21,
   "metadata": {},
   "outputs": [
    {
     "data": {
      "text/plain": [
       "(-1.7965224139326075, -0.18137168409181997)"
      ]
     },
     "execution_count": 21,
     "metadata": {},
     "output_type": "execute_result"
    }
   ],
   "source": [
    "log_PrcS = np.log(PrcS)\n",
    "log_PrcNS = np.log(PrcNS)\n",
    "log_PrcS, log_PrcNS"
   ]
  },
  {
   "cell_type": "markdown",
   "metadata": {},
   "source": [
    "## For each word w, get the (log) probability that the word is present in spam emails,log Pr(w|S), and (log) probability that the word is present in non-spam emails, log Pr(w| ̄S). "
   ]
  },
  {
   "cell_type": "code",
   "execution_count": 23,
   "metadata": {},
   "outputs": [],
   "source": [
    "real_spam = list()\n",
    "real_non_spam = list()\n",
    "\n",
    "# fetch spam and non-spam emails for training data set\n",
    "for i in range(len(training)):\n",
    "    if(training[i][-1]) == 1:\n",
    "        real_spam.append(training[i])\n",
    "    else:\n",
    "        real_non_spam.append(training[i])"
   ]
  },
  {
   "cell_type": "code",
   "execution_count": 24,
   "metadata": {},
   "outputs": [],
   "source": [
    "testing_real_spam = list()\n",
    "testing_real_non_spam = list()\n",
    "\n",
    "# fetch spam and non-spam emails for testing data set\n",
    "for i in range(len(testing)):\n",
    "    if(testing[i][-1]) == 1:\n",
    "        testing_real_spam.append(testing[i])\n",
    "    else:\n",
    "        testing_real_non_spam.append(testing[i])"
   ]
  },
  {
   "cell_type": "code",
   "execution_count": 25,
   "metadata": {},
   "outputs": [],
   "source": [
    "real_spam_array = np.sum(real_spam, axis = 0)\n",
    "real_non_spam_array = np.sum(real_non_spam, axis = 0)"
   ]
  },
  {
   "cell_type": "code",
   "execution_count": 26,
   "metadata": {},
   "outputs": [
    {
     "name": "stderr",
     "output_type": "stream",
     "text": [
      "<ipython-input-26-7c1c799496e5>:2: RuntimeWarning: divide by zero encountered in log\n",
      "  log_PrW1CS_Arr = np.log(log_PrW1CS_Arr / (num_S))\n",
      "<ipython-input-26-7c1c799496e5>:6: RuntimeWarning: divide by zero encountered in log\n",
      "  log_PrW1CNS_Arr = np.log(log_PrW1CNS_Arr / (num_NS))\n",
      "<ipython-input-26-7c1c799496e5>:10: RuntimeWarning: divide by zero encountered in log\n",
      "  log_PrW0CS_Arr = np.log(log_PrW0CS_Arr / (num_S))\n",
      "<ipython-input-26-7c1c799496e5>:14: RuntimeWarning: divide by zero encountered in log\n",
      "  log_PrW0CNS_Arr = np.log(log_PrW0CNS_Arr / (num_NS))\n"
     ]
    }
   ],
   "source": [
    "log_PrW1CS_Arr = real_spam_array[0:-1]\n",
    "log_PrW1CS_Arr = np.log(log_PrW1CS_Arr / (num_S))\n",
    "\n",
    "# get the (W=1|S=0)\n",
    "log_PrW1CNS_Arr = real_non_spam_array[0:-1]\n",
    "log_PrW1CNS_Arr = np.log(log_PrW1CNS_Arr / (num_NS))\n",
    "\n",
    "# get the (W=0|S=1)\n",
    "log_PrW0CS_Arr = len(real_spam) - real_spam_array[0:-1]\n",
    "log_PrW0CS_Arr = np.log(log_PrW0CS_Arr / (num_S))\n",
    "\n",
    "# get the (W=0|S=0)\n",
    "log_PrW0CNS_Arr = len(real_non_spam) - real_non_spam_array[0:-1]\n",
    "log_PrW0CNS_Arr = np.log(log_PrW0CNS_Arr / (num_NS))"
   ]
  },
  {
   "cell_type": "code",
   "execution_count": 27,
   "metadata": {},
   "outputs": [
    {
     "data": {
      "text/plain": [
       "array([-1.16315081, -1.17995793,        -inf, -5.95064255,        -inf,\n",
       "              -inf,        -inf,        -inf,        -inf,        -inf])"
      ]
     },
     "execution_count": 27,
     "metadata": {},
     "output_type": "execute_result"
    }
   ],
   "source": [
    "log_PrW1CS_Arr[:10]"
   ]
  },
  {
   "cell_type": "markdown",
   "metadata": {},
   "source": [
    "## For both destination classes,S=1 andS=0, get thelog-likelihood that the emailbelongs to this class"
   ]
  },
  {
   "cell_type": "code",
   "execution_count": 28,
   "metadata": {},
   "outputs": [],
   "source": [
    "from sklearn.metrics import confusion_matrix, accuracy_score, f1_score, precision_score, recall_score"
   ]
  },
  {
   "cell_type": "code",
   "execution_count": 29,
   "metadata": {},
   "outputs": [
    {
     "name": "stderr",
     "output_type": "stream",
     "text": [
      "<ipython-input-29-d237600bcb2b>:8: RuntimeWarning: invalid value encountered in multiply\n",
      "  PrS_Arr_regular = testing_for_regular * log_PrW1CS_Arr + testing_for_regular_switch * log_PrW0CS_Arr\n",
      "<ipython-input-29-d237600bcb2b>:9: RuntimeWarning: invalid value encountered in multiply\n",
      "  PrNS_Arr_regular = testing_for_regular * log_PrW1CNS_Arr + testing_for_regular_switch * log_PrW0CNS_Arr\n"
     ]
    },
    {
     "name": "stdout",
     "output_type": "stream",
     "text": [
      "[          -inf           -inf           -inf           -inf\n",
      "           -inf           -inf -1223.18539456           -inf\n",
      "           -inf           -inf]\n",
      "[         -inf          -inf          -inf          -inf          -inf\n",
      "          -inf          -inf          -inf -305.90046657 -758.29641633]\n",
      "[[481   0]\n",
      " [ 88   9]]\n",
      "0.8477508650519031\n"
     ]
    }
   ],
   "source": [
    "# exclude the last column(spam indicator)\n",
    "testing_for_regular = testing[:,:-1]\n",
    "\n",
    "# reverse 0s and 1s\n",
    "testing_for_regular_switch = (testing_for_regular - 1) * (-1)\n",
    "\n",
    "# calculate l(S=1|W) and l(S=0|W)\n",
    "PrS_Arr_regular = testing_for_regular * log_PrW1CS_Arr + testing_for_regular_switch * log_PrW0CS_Arr\n",
    "PrNS_Arr_regular = testing_for_regular * log_PrW1CNS_Arr + testing_for_regular_switch * log_PrW0CNS_Arr\n",
    "#use np.nansum() to ignore nan when summing\n",
    "PrS_Arr_sum_regular = np.nansum(PrS_Arr_regular, axis = 1) + log_PrcS \n",
    "PrNS_Arr_sum_regular = np.nansum(PrNS_Arr_regular, axis = 1) + log_PrcNS\n",
    "\n",
    "print(PrS_Arr_sum_regular[:10])\n",
    "print(PrNS_Arr_sum_regular[:10])\n",
    "\n",
    "# predict the emails\n",
    "testing_list = []\n",
    "for i in range(len(testing)):\n",
    "    testing_list.append((PrS_Arr_sum_regular[i] > PrNS_Arr_sum_regular[i]) + 0)\n",
    "\n",
    "testing_prediction = np.c_[testing, testing_list]\n",
    "\n",
    "# get the confusion matrix and accuracy score\n",
    "print(confusion_matrix(testing_prediction[:,-2], testing_prediction[:,-1]))\n",
    "\n",
    "accuracy_rate = accuracy_score(testing_prediction[:,-2], testing_prediction[:,-1])\n",
    "\n",
    "print(accuracy_rate)"
   ]
  },
  {
   "cell_type": "markdown",
   "metadata": {},
   "source": [
    "#### we get a lot of inifities using the naive bayes approach, now we move forward to adding smoothing to get rid of the infinities that affected the result previously"
   ]
  },
  {
   "cell_type": "markdown",
   "metadata": {},
   "source": [
    "# Add smoothing"
   ]
  },
  {
   "cell_type": "code",
   "execution_count": 31,
   "metadata": {},
   "outputs": [],
   "source": [
    "alpha=0.5\n",
    "log_PrW1CS_Arr_smoothing = list()\n",
    "log_PrW1CNS_Arr_smoothing = list()\n",
    "log_PrW0CNS_Arr_smoothing = list()\n",
    "log_PrW0CS_Arr_smoothing = list()\n",
    "PrNS_Arr = list()\n",
    "PrS_Arr = list()\n",
    "\n",
    "# get the email counts for each word\n",
    "# real_spam_array = np.sum(real_spam, axis = 0)\n",
    "# real_non_spam_array = np.sum(real_non_spam, axis = 0)\n",
    "\n",
    "# get the (W=1|S=1)\n",
    "log_PrW1CS_Arr_smoothing = real_spam_array[0:-1] + alpha \n",
    "log_PrW1CS_Arr_smoothing = np.log(log_PrW1CS_Arr_smoothing / (num_S + 2 * alpha))\n",
    "\n",
    "# get the (W=1|S=0)\n",
    "log_PrW1CNS_Arr_smoothing = real_non_spam_array[0:-1] + alpha\n",
    "log_PrW1CNS_Arr_smoothing = np.log(log_PrW1CNS_Arr_smoothing / (num_NS + 2 * alpha))\n",
    "\n",
    "# get the (W=0|S=1)\n",
    "log_PrW0CS_Arr_smoothing = len(real_spam) - real_spam_array[0:-1] + alpha\n",
    "log_PrW0CS_Arr_smoothing = np.log(log_PrW0CS_Arr_smoothing / (num_S + 2 * alpha))\n",
    "\n",
    "# get the (W=0|S=0)\n",
    "log_PrW0CNS_Arr_smoothing = len(real_non_spam) - real_non_spam_array[0:-1] + alpha\n",
    "log_PrW0CNS_Arr_smoothing = np.log(log_PrW0CNS_Arr_smoothing / (num_NS + 2 * alpha))"
   ]
  },
  {
   "cell_type": "code",
   "execution_count": 32,
   "metadata": {},
   "outputs": [
    {
     "data": {
      "text/plain": [
       "array([-1.16159358, -1.17833037, -6.64639051, -5.54777823, -6.64639051,\n",
       "       -6.64639051, -6.64639051, -6.64639051, -6.64639051, -6.64639051])"
      ]
     },
     "execution_count": 32,
     "metadata": {},
     "output_type": "execute_result"
    }
   ],
   "source": [
    "log_PrW1CS_Arr_smoothing[:10]"
   ]
  },
  {
   "cell_type": "code",
   "execution_count": 33,
   "metadata": {},
   "outputs": [],
   "source": [
    "def different_alpha(alpha):\n",
    "    log_PrW1CS_Arr_smoothing = list()\n",
    "    log_PrW1CNS_Arr_smoothing = list()\n",
    "    log_PrW0CNS_Arr_smoothing = list()\n",
    "    log_PrW0CS_Arr_smoothing = list()\n",
    "    PrNS_Arr = list()\n",
    "    PrS_Arr = list()\n",
    "    \n",
    "    # get the email counts for each word\n",
    "    real_spam_array = np.sum(real_spam, axis = 0)\n",
    "    real_non_spam_array = np.sum(real_non_spam, axis = 0)\n",
    "     \n",
    "    # get the (W=1|S=1)\n",
    "    log_PrW1CS_Arr_smoothing = real_spam_array[0:-1] + alpha \n",
    "    log_PrW1CS_Arr_smoothing = np.log(log_PrW1CS_Arr_smoothing / (num_S + 2 * alpha))\n",
    "    \n",
    "    # get the (W=1|S=0)\n",
    "    log_PrW1CNS_Arr_smoothing = real_non_spam_array[0:-1] + alpha\n",
    "    log_PrW1CNS_Arr_smoothing = np.log(log_PrW1CNS_Arr_smoothing / (num_NS + 2 * alpha))\n",
    "    \n",
    "    # get the (W=0|S=1)\n",
    "    log_PrW0CS_Arr_smoothing = len(real_spam) - real_spam_array[0:-1] + alpha\n",
    "    log_PrW0CS_Arr_smoothing = np.log(log_PrW0CS_Arr_smoothing / (num_S + 2 * alpha))\n",
    "    \n",
    "    # get the (W=0|S=0)\n",
    "    log_PrW0CNS_Arr_smoothing = len(real_non_spam) - real_non_spam_array[0:-1] + alpha\n",
    "    log_PrW0CNS_Arr_smoothing = np.log(log_PrW0CNS_Arr_smoothing / (num_NS + 2 * alpha))\n",
    "\n",
    "    \n",
    "    # exclude the last column\n",
    "    testing_for_smoothing_1 = testing_for_smoothing[:,:-1]\n",
    "    \n",
    "    # reverse 0s and 1s\n",
    "    testing_for_smoothing_1_switch = (testing_for_smoothing_1 - 1) * (-1)\n",
    "    \n",
    "    # calculate l(S=1|W) and l(S=0|W)\n",
    "    PrS_Arr = testing_for_smoothing_1 * log_PrW1CS_Arr_smoothing + testing_for_smoothing_1_switch * log_PrW0CS_Arr_smoothing\n",
    "    PrNS_Arr = testing_for_smoothing_1 * log_PrW1CNS_Arr_smoothing + testing_for_smoothing_1_switch * log_PrW0CNS_Arr_smoothing\n",
    "    PrS_Arr_sum = np.sum(PrS_Arr, axis = 1) + log_PrcS\n",
    "    PrNS_Arr_sum = np.sum(PrNS_Arr, axis = 1) + log_PrcNS\n",
    "    \n",
    "    PrS_Arr_sum_by_column = np.sum(PrS_Arr, axis = 0)\n",
    "    PrNS_Arr_sum_by_column = np.sum(PrNS_Arr, axis = 0)\n",
    "    \n",
    "    spam_predictor = PrS_Arr_sum_by_column - PrNS_Arr_sum_by_column\n",
    "    non_spam_predictor = PrNS_Arr_sum_by_column - PrS_Arr_sum_by_column\n",
    "\n",
    "    # predict the emails\n",
    "    testing_list_smoothing = []\n",
    "    for i in range(len(testing_for_smoothing)):\n",
    "        testing_list_smoothing.append((PrS_Arr_sum[i] > PrNS_Arr_sum[i]) + 0)\n",
    "    \n",
    "    testing_prediction_smoothing = np.c_[testing_for_smoothing, testing_list_smoothing]\n",
    "    \n",
    "    # get the confusion matrix and accuracy score\n",
    "    print(confusion_matrix(testing_prediction_smoothing[:,-2], testing_prediction_smoothing[:,-1]))\n",
    "\n",
    "    accuracy_rate = accuracy_score(testing_prediction_smoothing[:,-2], testing_prediction_smoothing[:,-1])\n",
    "    \n",
    "    print(accuracy_rate, alpha)\n",
    "    \n",
    "    return accuracy_rate"
   ]
  },
  {
   "cell_type": "code",
   "execution_count": 34,
   "metadata": {},
   "outputs": [
    {
     "name": "stdout",
     "output_type": "stream",
     "text": [
      "[[477   0]\n",
      " [  2  99]]\n",
      "0.9965397923875432 1e-06\n"
     ]
    },
    {
     "data": {
      "text/plain": [
       "0.9965397923875432"
      ]
     },
     "execution_count": 34,
     "metadata": {},
     "output_type": "execute_result"
    }
   ],
   "source": [
    "different_alpha(0.000001) #reached accuracy of 99.66% "
   ]
  },
  {
   "cell_type": "markdown",
   "metadata": {},
   "source": [
    "## Find the best smoothing parameter α."
   ]
  },
  {
   "cell_type": "code",
   "execution_count": 35,
   "metadata": {},
   "outputs": [],
   "source": [
    "import matplotlib.pyplot as plt"
   ]
  },
  {
   "cell_type": "code",
   "execution_count": 36,
   "metadata": {},
   "outputs": [
    {
     "name": "stdout",
     "output_type": "stream",
     "text": [
      "[[477   0]\n",
      " [  2  99]]\n",
      "0.9965397923875432 1e-08\n",
      "[[477   0]\n",
      " [  2  99]]\n",
      "0.9965397923875432 1e-07\n",
      "[[477   0]\n",
      " [  2  99]]\n",
      "0.9965397923875432 1e-06\n",
      "[[477   0]\n",
      " [  2  99]]\n",
      "0.9965397923875432 1e-05\n",
      "[[477   0]\n",
      " [  1 100]]\n",
      "0.9982698961937716 0.0001\n",
      "[[477   0]\n",
      " [  1 100]]\n",
      "0.9982698961937716 0.001\n",
      "[[476   1]\n",
      " [  1 100]]\n",
      "0.9965397923875432 0.01\n",
      "[[476   1]\n",
      " [  0 101]]\n",
      "0.9982698961937716 0.1\n",
      "[[477   0]\n",
      " [ 40  61]]\n",
      "0.9307958477508651 1.0\n",
      "[[477   0]\n",
      " [101   0]]\n",
      "0.8252595155709342 10.0\n"
     ]
    }
   ],
   "source": [
    "list_alpha = np.logspace(-8, 1, 10)\n",
    "accuracy_list = list()\n",
    "for i in list_alpha:\n",
    "    accuracy_list.append(different_alpha(i))"
   ]
  },
  {
   "cell_type": "code",
   "execution_count": 37,
   "metadata": {},
   "outputs": [
    {
     "data": {
      "image/png": "[encoded data removed]",
      "text/plain": [
       "<Figure size 432x288 with 1 Axes>"
      ]
     },
     "metadata": {
      "needs_background": "light"
     },
     "output_type": "display_data"
    }
   ],
   "source": [
    "_ = plt.plot(list_alpha, accuracy_list, marker=\"o\")\n",
    "_ = plt.xscale('log')"
   ]
  },
  {
   "cell_type": "markdown",
   "metadata": {},
   "source": [
    "The best predictors are alpha=[0.001, 0.001, 0.1]"
   ]
  },
  {
   "cell_type": "markdown",
   "metadata": {},
   "source": [
    "# Find the best words to predict spam and non-spam"
   ]
  },
  {
   "cell_type": "code",
   "execution_count": 42,
   "metadata": {},
   "outputs": [],
   "source": [
    "def find_best_words(alpha):\n",
    "    log_PrW1CS_Arr_smoothing = list()\n",
    "    log_PrW1CNS_Arr_smoothing = list()\n",
    "    log_PrW0CNS_Arr_smoothing = list()\n",
    "    log_PrW0CS_Arr_smoothing = list()\n",
    "    PrNS_Arr = list()\n",
    "    PrS_Arr = list()\n",
    "    \n",
    "    # get the email counts for each word\n",
    "    real_spam_array = np.sum(real_spam, axis = 0)\n",
    "    real_non_spam_array = np.sum(real_non_spam, axis = 0)\n",
    "     \n",
    "    # get the (W=1|S=1)\n",
    "    log_PrW1CS_Arr_smoothing = real_spam_array[0:-1] + alpha \n",
    "    log_PrW1CS_Arr_smoothing = np.log(log_PrW1CS_Arr_smoothing / (num_S + 2 * alpha))\n",
    "    \n",
    "    # get the (W=1|S=0)\n",
    "    log_PrW1CNS_Arr_smoothing = real_non_spam_array[0:-1] + alpha\n",
    "    log_PrW1CNS_Arr_smoothing = np.log(log_PrW1CNS_Arr_smoothing / (num_NS + 2 * alpha))\n",
    "    \n",
    "    # get the (W=0|S=1)\n",
    "    log_PrW0CS_Arr_smoothing = len(real_spam) - real_spam_array[0:-1] + alpha\n",
    "    log_PrW0CS_Arr_smoothing = np.log(log_PrW0CS_Arr_smoothing / (num_S + 2 * alpha))\n",
    "    \n",
    "    # get the (W=0|S=0)\n",
    "    log_PrW0CNS_Arr_smoothing = len(real_non_spam) - real_non_spam_array[0:-1] + alpha\n",
    "    log_PrW0CNS_Arr_smoothing = np.log(log_PrW0CNS_Arr_smoothing / (num_NS + 2 * alpha))\n",
    "\n",
    "    \n",
    "    # exclude the last column\n",
    "    testing_for_smoothing_1 = testing_for_smoothing[:,:-1]\n",
    "    \n",
    "    # reverse 0s and 1s\n",
    "    testing_for_smoothing_1_switch = (testing_for_smoothing_1 - 1) * (-1)\n",
    "    \n",
    "    # calculate l(S=1|W) and l(S=0|W)\n",
    "    PrS_Arr = testing_for_smoothing_1 * log_PrW1CS_Arr_smoothing + testing_for_smoothing_1_switch * log_PrW0CS_Arr_smoothing\n",
    "    PrNS_Arr = testing_for_smoothing_1 * log_PrW1CNS_Arr_smoothing + testing_for_smoothing_1_switch * log_PrW0CNS_Arr_smoothing\n",
    "    PrS_Arr_sum = np.sum(PrS_Arr, axis = 1) + log_PrcS\n",
    "    PrNS_Arr_sum = np.sum(PrNS_Arr, axis = 1) + log_PrcNS\n",
    "    \n",
    "    PrS_Arr_sum_by_column = np.sum(PrS_Arr, axis = 0)\n",
    "    PrNS_Arr_sum_by_column = np.sum(PrNS_Arr, axis = 0)\n",
    "    \n",
    "    \n",
    "    spam_predictor = PrS_Arr_sum_by_column - PrNS_Arr_sum_by_column\n",
    "    non_spam_predictor = PrNS_Arr_sum_by_column - PrS_Arr_sum_by_column\n",
    "    spam_predictor_1 = spam_predictor\n",
    "    non_spam_predictor_1 = non_spam_predictor\n",
    "    \n",
    "    print(\"top 10 words to predict non-spam:\")\n",
    "    for j in (sorted(range(len(spam_predictor)), key=lambda i: spam_predictor[i])[:10]):\n",
    "        print(vocabulary[j])\n",
    "\n",
    "    print(\"top 10 words to predict spam:\")\n",
    "    for j in (sorted(range(len(non_spam_predictor)), key=lambda i: non_spam_predictor[i])[:10]):\n",
    "        print(vocabulary[j])\n",
    "    \n",
    "    # predict the emails\n",
    "    testing_list_smoothing = []\n",
    "    for i in range(len(testing_for_smoothing)):\n",
    "        testing_list_smoothing.append((PrS_Arr_sum[i] > PrNS_Arr_sum[i]) + 0)\n",
    "    \n",
    "    testing_prediction_smoothing = np.c_[testing_for_smoothing, testing_list_smoothing]\n",
    "    \n",
    "    # get the confusion matrix and accuracy score\n",
    "    print(confusion_matrix(testing_prediction_smoothing[:,-2], testing_prediction_smoothing[:,-1]))\n",
    "\n",
    "    accuracy_rate = accuracy_score(testing_prediction_smoothing[:,-2], testing_prediction_smoothing[:,-1])\n",
    "    \n",
    "    print(accuracy_rate, alpha)\n",
    "\n",
    "    \n",
    "#     misclassified = list()\n",
    "#     for i in range(len(testing_prediction_smoothing)):\n",
    "#         if((testing_prediction_smoothing[i,-2] != testing_prediction_smoothing[i,-1])):\n",
    "#             misclassified.append(i)\n",
    "\n",
    "#     print(testing_for_smoothing_examples.message[misclassified[0]])\n",
    "#     print(\"                              \")\n",
    "#     print(testing_for_smoothing_examples.message[misclassified[1]])\n",
    "    \n",
    "    return accuracy_rate"
   ]
  },
  {
   "cell_type": "code",
   "execution_count": 43,
   "metadata": {},
   "outputs": [
    {
     "name": "stdout",
     "output_type": "stream",
     "text": [
      "top 10 words to predict non-spam:\n",
      "linguistic\n",
      "syntax\n",
      "speakers\n",
      "theory\n",
      "deadline\n",
      "abstract\n",
      "committee\n",
      "abstracts\n",
      "structure\n",
      "workshop\n",
      "top 10 words to predict spam:\n",
      "profits\n",
      "investment\n",
      "bonus\n",
      "mlm\n",
      "intrusion\n",
      "fraction\n",
      "earning\n",
      "spam\n",
      "fingertips\n",
      "anytime\n",
      "[[477   0]\n",
      " [  2  99]]\n",
      "0.9965397923875432 1e-06\n"
     ]
    },
    {
     "data": {
      "text/plain": [
       "0.9965397923875432"
      ]
     },
     "execution_count": 43,
     "metadata": {},
     "output_type": "execute_result"
    }
   ],
   "source": [
    "find_best_words(0.000001)"
   ]
  }
 ],
 "metadata": {
  "kernelspec": {
   "display_name": "Python 3",
   "language": "python",
   "name": "python3"
  },
  "language_info": {
   "codemirror_mode": {
    "name": "ipython",
    "version": 3
   },
   "file_extension": ".py",
   "mimetype": "text/x-python",
   "name": "python",
   "nbconvert_exporter": "python",
   "pygments_lexer": "ipython3",
   "version": "3.8.5"
  }
 },
 "nbformat": 4,
 "nbformat_minor": 5
}
